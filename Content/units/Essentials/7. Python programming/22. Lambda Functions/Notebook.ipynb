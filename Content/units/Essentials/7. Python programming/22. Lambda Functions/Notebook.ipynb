{
  "cells": [
    {
      "cell_type": "markdown",
      "metadata": {
        "id": "aKM2sFo8-NGR"
      },
      "source": [
        "# Lambda Functions"
      ]
    },
    {
      "cell_type": "markdown",
      "metadata": {
        "id": "we8uHF76-NGS"
      },
      "source": [
        "## Learning Objectives\n",
        "- Learn Lambda functions in Python.\n",
        "- Learn the syntax of Lambda functions.\n",
        "- Understand sorted(), filter() and map() functions."
      ]
    },
    {
      "cell_type": "markdown",
      "metadata": {
        "id": "cBmrkEkM-NGT"
      },
      "source": [
        "## Lesson Materials"
      ]
    },
    {
      "cell_type": "markdown",
      "metadata": {
        "id": "maL5k1yo-NGT"
      },
      "source": [
        "For this lesson, we will use a folder name `utils`. If you are in Colab and currently do not have this folder, run the following code to download the folder with the examples. Remember that you can access `.py` files in Colab and modify them."
      ]
    },
    {
      "cell_type": "code",
      "execution_count": null,
      "metadata": {
        "id": "hB3rtDum-NGT",
        "outputId": "d3bac516-8731-4d3d-999b-3309e6809a5b"
      },
      "outputs": [
        {
          "name": "stderr",
          "output_type": "stream",
          "text": [
            "'wget' is not recognized as an internal or external command,\n",
            "operable program or batch file.\n"
          ]
        },
        {
          "ename": "FileNotFoundError",
          "evalue": "[Errno 2] No such file or directory: 'advanced_py.zip'",
          "output_type": "error",
          "traceback": [
            "\u001b[1;31m---------------------------------------------------------------------------\u001b[0m\n",
            "\u001b[1;31mFileNotFoundError\u001b[0m                         Traceback (most recent call last)\n",
            "\u001b[1;32mC:\\Users\\BLAIR_~1\\AppData\\Local\\Temp/ipykernel_18816/2606976078.py\u001b[0m in \u001b[0;36m<module>\u001b[1;34m\u001b[0m\n",
            "\u001b[0;32m      1\u001b[0m \u001b[0mget_ipython\u001b[0m\u001b[1;33m(\u001b[0m\u001b[1;33m)\u001b[0m\u001b[1;33m.\u001b[0m\u001b[0msystem\u001b[0m\u001b[1;33m(\u001b[0m\u001b[1;34m'wget \"https://aicore-files.s3.amazonaws.com/Foundations/Python_Programming/advanced_py.zip\"'\u001b[0m\u001b[1;33m)\u001b[0m\u001b[1;33m\u001b[0m\u001b[1;33m\u001b[0m\u001b[0m\n",
            "\u001b[0;32m      2\u001b[0m \u001b[1;32mimport\u001b[0m \u001b[0mzipfile\u001b[0m\u001b[1;33m\u001b[0m\u001b[1;33m\u001b[0m\u001b[0m\n",
            "\u001b[1;32m----> 3\u001b[1;33m \u001b[1;32mwith\u001b[0m \u001b[0mzipfile\u001b[0m\u001b[1;33m.\u001b[0m\u001b[0mZipFile\u001b[0m\u001b[1;33m(\u001b[0m\u001b[1;34m\"advanced_py.zip\"\u001b[0m\u001b[1;33m,\u001b[0m \u001b[1;34m'r'\u001b[0m\u001b[1;33m)\u001b[0m \u001b[1;32mas\u001b[0m \u001b[0mzip_ref\u001b[0m\u001b[1;33m:\u001b[0m\u001b[1;33m\u001b[0m\u001b[1;33m\u001b[0m\u001b[0m\n",
            "\u001b[0m\u001b[0;32m      4\u001b[0m     \u001b[0mzip_ref\u001b[0m\u001b[1;33m.\u001b[0m\u001b[0mextractall\u001b[0m\u001b[1;33m(\u001b[0m\u001b[1;34m\"utils\"\u001b[0m\u001b[1;33m)\u001b[0m\u001b[1;33m\u001b[0m\u001b[1;33m\u001b[0m\u001b[0m\n",
            "\n",
            "\u001b[1;32m~\\anaconda3\\lib\\zipfile.py\u001b[0m in \u001b[0;36m__init__\u001b[1;34m(self, file, mode, compression, allowZip64, compresslevel, strict_timestamps)\u001b[0m\n",
            "\u001b[0;32m   1249\u001b[0m             \u001b[1;32mwhile\u001b[0m \u001b[1;32mTrue\u001b[0m\u001b[1;33m:\u001b[0m\u001b[1;33m\u001b[0m\u001b[1;33m\u001b[0m\u001b[0m\n",
            "\u001b[0;32m   1250\u001b[0m                 \u001b[1;32mtry\u001b[0m\u001b[1;33m:\u001b[0m\u001b[1;33m\u001b[0m\u001b[1;33m\u001b[0m\u001b[0m\n",
            "\u001b[1;32m-> 1251\u001b[1;33m                     \u001b[0mself\u001b[0m\u001b[1;33m.\u001b[0m\u001b[0mfp\u001b[0m \u001b[1;33m=\u001b[0m \u001b[0mio\u001b[0m\u001b[1;33m.\u001b[0m\u001b[0mopen\u001b[0m\u001b[1;33m(\u001b[0m\u001b[0mfile\u001b[0m\u001b[1;33m,\u001b[0m \u001b[0mfilemode\u001b[0m\u001b[1;33m)\u001b[0m\u001b[1;33m\u001b[0m\u001b[1;33m\u001b[0m\u001b[0m\n",
            "\u001b[0m\u001b[0;32m   1252\u001b[0m                 \u001b[1;32mexcept\u001b[0m \u001b[0mOSError\u001b[0m\u001b[1;33m:\u001b[0m\u001b[1;33m\u001b[0m\u001b[1;33m\u001b[0m\u001b[0m\n",
            "\u001b[0;32m   1253\u001b[0m                     \u001b[1;32mif\u001b[0m \u001b[0mfilemode\u001b[0m \u001b[1;32min\u001b[0m \u001b[0mmodeDict\u001b[0m\u001b[1;33m:\u001b[0m\u001b[1;33m\u001b[0m\u001b[1;33m\u001b[0m\u001b[0m\n",
            "\n",
            "\u001b[1;31mFileNotFoundError\u001b[0m: [Errno 2] No such file or directory: 'advanced_py.zip'"
          ]
        }
      ],
      "source": [
        "!wget \"https://aicore-files.s3.amazonaws.com/Foundations/Python_Programming/advanced_py.zip\"\n",
        "import zipfile\n",
        "with zipfile.ZipFile(\"advanced_py.zip\", 'r') as zip_ref:\n",
        "    zip_ref.extractall(\"utils\")"
      ]
    },
    {
      "cell_type": "markdown",
      "metadata": {
        "id": "VpO0Q7RB-NGU"
      },
      "source": [
        "## Introduction"
      ]
    },
    {
      "cell_type": "markdown",
      "metadata": {
        "id": "sR_mKJeT-NGU"
      },
      "source": [
        "Lambda functions are short versions of normal functions. For example, below, we define a small function that accepts a number and returns its square."
      ]
    },
    {
      "cell_type": "code",
      "execution_count": null,
      "metadata": {
        "id": "hOjAd4Wk-NGU",
        "outputId": "042594aa-aed4-452f-a184-ecdfcc64a1b1"
      },
      "outputs": [
        {
          "name": "stdout",
          "output_type": "stream",
          "text": [
            "9\n"
          ]
        }
      ],
      "source": [
        "def func_square(y):\n",
        "    return y ** 2\n",
        "\n",
        "x = func_square(3)\n",
        "print(x)"
      ]
    },
    {
      "cell_type": "markdown",
      "metadata": {
        "id": "XG03XBqO-NGU"
      },
      "source": [
        "This appears easy; however, since this function is small, it does not have to be defined in a separate part of the code. We can simply use a lambda function.\n",
        "\n",
        "> <font size=+1>Lambda functions are employed to define functions on a single line.</font>"
      ]
    },
    {
      "cell_type": "markdown",
      "metadata": {
        "id": "Ll7TOvCK-NGU"
      },
      "source": [
        "## Syntax\n",
        "The syntax is\n",
        "\n",
        "`lambda arguments: expression`\n",
        "\n",
        "Consider the below example using the same function we defined previously."
      ]
    },
    {
      "cell_type": "code",
      "execution_count": null,
      "metadata": {
        "id": "Ry7hYqE5-NGU",
        "outputId": "61f9a05d-dd65-4161-cf7b-99ef2bea91a9"
      },
      "outputs": [
        {
          "name": "stdout",
          "output_type": "stream",
          "text": [
            "9\n"
          ]
        }
      ],
      "source": [
        "func_lambda = lambda y: y ** 2\n",
        "\n",
        "x = func_lambda(3)\n",
        "print(x)"
      ]
    },
    {
      "cell_type": "markdown",
      "metadata": {
        "id": "W-1oh1Ao-NGU"
      },
      "source": [
        "## Arguments and Small Functions"
      ]
    },
    {
      "cell_type": "markdown",
      "metadata": {
        "id": "FsGWuTsW-NGU"
      },
      "source": [
        "Lambda functions can also accept two or more arguments. For example, below, we define a function that accepts two numbers and returns their sum:"
      ]
    },
    {
      "cell_type": "code",
      "execution_count": null,
      "metadata": {
        "id": "brn1-NPv-NGU",
        "outputId": "4be2898b-3832-4fbe-b4aa-e103d5dac06a"
      },
      "outputs": [
        {
          "data": {
            "text/plain": [
              "7"
            ]
          },
          "execution_count": 4,
          "metadata": {},
          "output_type": "execute_result"
        }
      ],
      "source": [
        "func_sum = lambda x, y: x + y\n",
        "\n",
        "func_sum(3, 4)"
      ]
    },
    {
      "cell_type": "markdown",
      "metadata": {
        "id": "kfHUseAM-NGV"
      },
      "source": [
        "Generally, Lambda functions can be passed as arguments in higher-order functions. Eventually, we will go through higher-order functions that accept lambda functions to perform small operations.\n",
        "\n",
        "Here, we introduce three small functions: sorted(), filter() and map()."
      ]
    },
    {
      "cell_type": "code",
      "execution_count": null,
      "metadata": {
        "id": "ZGMmhyEX-NGV"
      },
      "outputs": [],
      "source": [
        "sorted([5, 2, 4, 2, 3])"
      ]
    },
    {
      "cell_type": "code",
      "execution_count": null,
      "metadata": {
        "id": "v9nRdBXQ-NGV"
      },
      "outputs": [],
      "source": [
        "got = [('Caitlyn', 'Tully'), ('Arya', 'Stark'), ('Bran', 'Stark'), ('Arya', 'Baratheon'), ('Jon', 'Snow'), ('Jon', 'Targaryen')]\n",
        "\n",
        "sorted(got) # Sort by the given name, and in case it is the same, sort by the last name."
      ]
    },
    {
      "cell_type": "markdown",
      "metadata": {
        "id": "WkRk38Km-NGV"
      },
      "source": [
        "To sort by last names, we perform the following:"
      ]
    },
    {
      "cell_type": "code",
      "execution_count": null,
      "metadata": {
        "id": "A5CnQW_n-NGV"
      },
      "outputs": [],
      "source": [
        "for element in got:\n",
        "    print(element[1])"
      ]
    },
    {
      "cell_type": "code",
      "execution_count": null,
      "metadata": {
        "id": "ZAlWc_t--NGV"
      },
      "outputs": [],
      "source": [
        "sorted(got, key=lambda x: x[1])"
      ]
    },
    {
      "cell_type": "markdown",
      "metadata": {
        "id": "7cJgJuic-NGV"
      },
      "source": [
        "To sort by last-name length, we perform the following:"
      ]
    },
    {
      "cell_type": "code",
      "execution_count": null,
      "metadata": {
        "id": "4jYi4Fdg-NGV"
      },
      "outputs": [],
      "source": [
        "sorted(got, key=lambda element: len(element[1]))"
      ]
    },
    {
      "cell_type": "markdown",
      "metadata": {
        "id": "SrlCbOj_-NGV"
      },
      "source": [
        "Note that Lambda functions can also be used to apply a function to an iterable."
      ]
    },
    {
      "cell_type": "code",
      "execution_count": null,
      "metadata": {
        "id": "_ImC18HR-NGV"
      },
      "outputs": [],
      "source": [
        "ls_numbers = [1, 5, 10, 15, 20, 25, 42]\n",
        "ls_numbers * 2"
      ]
    },
    {
      "cell_type": "code",
      "execution_count": null,
      "metadata": {
        "id": "lRE2hjf6-NGV"
      },
      "outputs": [],
      "source": [
        "ls_numbers = [1, 5, 10, 15, 20, 25, 42]\n",
        "# I want to multiply each element by 2\n",
        "ls_twice = [x * 2 for x in ls_numbers] # Comprehension list\n",
        "ls_doubled = map(lambda x: x * 2, ls_numbers)\n",
        "\n",
        "print(ls_twice)\n",
        "print(dir(ls_doubled))\n",
        "print(list(ls_doubled))"
      ]
    },
    {
      "cell_type": "markdown",
      "metadata": {
        "id": "hyh96e9_-NGV"
      },
      "source": [
        "If a Lambda function has two arguments, it runs until there are no elements in either of the iterables."
      ]
    },
    {
      "cell_type": "code",
      "execution_count": null,
      "metadata": {
        "id": "hdiLdYoy-NGW"
      },
      "outputs": [],
      "source": [
        "fun = lambda x, y: x ** y\n",
        "print(list(map(fun, [1, 3, 3, 4], [1, 3, 4])))\n",
        "print(list(map(fun, [1, 3, 3, 4], [1, 3, 4, 2])))\n",
        "print(list(map(fun, [1, 3], [1, 3, 4, 2])))"
      ]
    },
    {
      "cell_type": "markdown",
      "metadata": {
        "id": "8NolE7nC-NGW"
      },
      "source": [
        "Elements in a list can also be filtered depending on a certain condition. The condition should return a Boolean."
      ]
    },
    {
      "cell_type": "code",
      "execution_count": null,
      "metadata": {
        "id": "hnmLYA0s-NGW"
      },
      "outputs": [],
      "source": [
        "got = [('Drogon', 508), ('Jon', 103), ('Rhaegal', 273), ('Cersei', 199), ('Arya', 1278)]\n",
        "\n",
        "killers = filter(lambda x: x[1] > 200, got)\n",
        "print(killers)\n",
        "print(list(killers))"
      ]
    },
    {
      "cell_type": "code",
      "execution_count": null,
      "metadata": {
        "id": "fT5Q6zB9-NGW"
      },
      "outputs": [],
      "source": [
        "numbers = [1, 2, 3]\n",
        "list(filter(lambda x: (x + 1) * 3 / 3 % 3 == 0, numbers))"
      ]
    },
    {
      "cell_type": "markdown",
      "metadata": {
        "id": "EwMRs52z-NGW"
      },
      "source": [
        "## Conclusion\n",
        "\n",
        "In this lesson, we reviewed Lambda functions on the surface level. To improve your knowledge and understanding of Lambda functions, engage the practicals and participate in as many challenges as possible. For examples, see [here](https://github.com/IvanYingX/Challenges_AiCore.git)"
      ]
    }
  ],
  "metadata": {
    "interpreter": {
      "hash": "3d597f4c481aa0f25dceb95d2a0067e73c0966dcbd003d741d821a7208527ecf"
    },
    "kernelspec": {
      "display_name": "Python 3.9.1 64-bit ('base': conda)",
      "name": "python3"
    },
    "language_info": {
      "codemirror_mode": {
        "name": "ipython",
        "version": 3
      },
      "file_extension": ".py",
      "mimetype": "text/x-python",
      "name": "python",
      "nbconvert_exporter": "python",
      "pygments_lexer": "ipython3",
      "version": "3.8.11"
    },
    "colab": {
      "provenance": []
    }
  },
  "nbformat": 4,
  "nbformat_minor": 0
}